{
 "cells": [
  {
   "cell_type": "code",
   "execution_count": 1,
   "metadata": {},
   "outputs": [
    {
     "name": "stdout",
     "output_type": "stream",
     "text": [
      "Requirement already satisfied: TextBlob in /home/hp/anaconda3/lib/python3.8/site-packages (0.15.3)\n",
      "Requirement already satisfied: nltk>=3.1 in /home/hp/anaconda3/lib/python3.8/site-packages (from TextBlob) (3.5)\n",
      "Requirement already satisfied: regex in /home/hp/anaconda3/lib/python3.8/site-packages (from nltk>=3.1->TextBlob) (2020.6.8)\n",
      "Requirement already satisfied: click in /home/hp/anaconda3/lib/python3.8/site-packages (from nltk>=3.1->TextBlob) (7.1.2)\n",
      "Requirement already satisfied: tqdm in /home/hp/anaconda3/lib/python3.8/site-packages (from nltk>=3.1->TextBlob) (4.47.0)\n",
      "Requirement already satisfied: joblib in /home/hp/anaconda3/lib/python3.8/site-packages (from nltk>=3.1->TextBlob) (0.16.0)\n",
      "Note: you may need to restart the kernel to use updated packages.\n"
     ]
    }
   ],
   "source": [
    "pip install TextBlob"
   ]
  },
  {
   "cell_type": "code",
   "execution_count": 1,
   "metadata": {},
   "outputs": [],
   "source": [
    "a=2"
   ]
  },
  {
   "cell_type": "code",
   "execution_count": 2,
   "metadata": {},
   "outputs": [
    {
     "name": "stdout",
     "output_type": "stream",
     "text": [
      "2\n"
     ]
    }
   ],
   "source": [
    "print(a)"
   ]
  },
  {
   "cell_type": "code",
   "execution_count": null,
   "metadata": {},
   "outputs": [],
   "source": []
  }
 ],
 "metadata": {
  "kernelspec": {
   "display_name": "Python 3",
   "language": "python",
   "name": "python3"
  },
  "language_info": {
   "codemirror_mode": {
    "name": "ipython",
    "version": 3
   },
   "file_extension": ".py",
   "mimetype": "text/x-python",
   "name": "python",
   "nbconvert_exporter": "python",
   "pygments_lexer": "ipython3",
   "version": "3.8.3"
  }
 },
 "nbformat": 4,
 "nbformat_minor": 4
}
